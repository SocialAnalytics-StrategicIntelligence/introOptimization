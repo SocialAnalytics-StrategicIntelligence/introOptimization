{
 "cells": [
  {
   "cell_type": "markdown",
   "id": "e94c1246",
   "metadata": {},
   "source": [
    "<img src=\"https://i.imgur.com/6U6q5jQ.png\"/>\n",
    "\n",
    "_____\n",
    "<a id='home'></a>\n",
    "\n",
    "\n",
    "\n",
    "\n",
    "# Introduction to Optimization for Decision Making\n"
   ]
  },
  {
   "cell_type": "code",
   "execution_count": null,
   "id": "4e38af10",
   "metadata": {
    "scrolled": true
   },
   "outputs": [],
   "source": [
    "%%html\n",
    "<iframe src=\"https://docs.google.com/presentation/d/e/2PACX-1vQHq0p2eTmxRWJjDmo1mUmdarYgIrEew4ieiVbIGQy-D_CyBw5rbbRUlRxwLKKaVQpRV9Hs8MGnz0X2/embed?start=false&loop=false&delayms=3000\" frameborder=\"1\" width=\"960\" height=\"569\" allowfullscreen=\"true\" mozallowfullscreen=\"true\" webkitallowfullscreen=\"true\"></iframe>"
   ]
  },
  {
   "cell_type": "markdown",
   "id": "869a5ade-2e6f-4ccd-8fd6-b4f276cff22f",
   "metadata": {},
   "source": [
    "# Part 1: Maximization/Minimization "
   ]
  },
  {
   "cell_type": "markdown",
   "id": "1f02e23b",
   "metadata": {},
   "source": [
    "Please, go to your _environment_ in Anacoda Navigator to install **glpk** and **pulp**  before runing the codes below.\n",
    "Then, call the library:"
   ]
  },
  {
   "cell_type": "code",
   "execution_count": null,
   "id": "2d2e3d99-7100-4941-aad8-57b178798e94",
   "metadata": {},
   "outputs": [],
   "source": [
    "# pip show glpk pulp\n",
    "# pip install glpk pulp"
   ]
  },
  {
   "cell_type": "code",
   "execution_count": null,
   "id": "a105dc9b-d105-49d3-8093-96d03eca9530",
   "metadata": {},
   "outputs": [],
   "source": [
    "import pulp as pp"
   ]
  },
  {
   "cell_type": "markdown",
   "id": "dd461c8a-8a20-4a93-aa9e-2b46c1deaf52",
   "metadata": {},
   "source": [
    "1. **Initialize the MODEL**: just write the name and declare if it is maximization or minimization problem type."
   ]
  },
  {
   "cell_type": "code",
   "execution_count": null,
   "id": "4436e0c7",
   "metadata": {},
   "outputs": [],
   "source": [
    "model = pp.LpProblem(name='refinery-problem', # just the name\n",
    "                     sense=pp.LpMaximize) # type of problem"
   ]
  },
  {
   "cell_type": "markdown",
   "id": "c001fd3a-190b-45d8-9fa3-c3e21578fa03",
   "metadata": {},
   "source": [
    "2. **Declare the VARIABLES**: The refinery model consists of these _variables_:"
   ]
  },
  {
   "cell_type": "code",
   "execution_count": null,
   "id": "8533e838-9e02-4ca8-85ef-de557cb1dd7c",
   "metadata": {},
   "outputs": [],
   "source": [
    "# how much gas?\n",
    "Gas = pp.LpVariable(name=\"Gas\",  # just the name\n",
    "                    lowBound=0,  # ensure non-negativity\n",
    "                    cat='Continuous') # here: you accept decimal values\n",
    "\n",
    "# how much oil?\n",
    "Oil = pp.LpVariable(name=\"Oil\",\n",
    "                 lowBound=0,\n",
    "                 cat='Continuous')"
   ]
  },
  {
   "cell_type": "markdown",
   "id": "611438aa-54e1-4cdd-aa77-44702feb498a",
   "metadata": {},
   "source": [
    "3. **Create function to OPTIMIZE**: The function is just the linear combination of the variables and their _given coefficients__: "
   ]
  },
  {
   "cell_type": "code",
   "execution_count": null,
   "id": "e676c256-353d-4fbd-a206-6914f29ff8ba",
   "metadata": {},
   "outputs": [],
   "source": [
    "GasCoeff=1.9\n",
    "OilCoeff=1.5\n",
    "obj_func = GasCoeff*Gas + OilCoeff*Oil"
   ]
  },
  {
   "cell_type": "markdown",
   "id": "65a5c48f-d28c-489a-bcd4-f97be76b57c7",
   "metadata": {},
   "source": [
    "4. **Represent the constraints**: These are the rules the model (set of variables) must obey:"
   ]
  },
  {
   "cell_type": "code",
   "execution_count": null,
   "id": "c24146f7-5db5-4606-90fd-9bc010685754",
   "metadata": {},
   "outputs": [],
   "source": [
    "# SUBJECT TO:\n",
    "C1= pp.LpConstraint(name='Gas Constraint',   # just the name\n",
    "                    e= 1*Gas - 2*Oil, rhs=0, # linear combination of constraint and rhs \n",
    "                    sense=pp.LpConstraintGE) # 'rule' >= 0 (LpConstraintGE)\n",
    "C2= pp.LpConstraint(name='Oil Constraint',\n",
    "                    e= 1*Oil, rhs=3000000,\n",
    "                    sense=pp.LpConstraintGE) # 'rule' >= 3000000 (LpConstraintGE)\n",
    "C3= pp.LpConstraint(name='Demand Constraint',\n",
    "                    e= 1*Gas, rhs=6400000,\n",
    "                    sense=pp.LpConstraintLE, )# 'rule' <= 6400000 (LpConstraintLE)"
   ]
  },
  {
   "cell_type": "markdown",
   "id": "10465ba5-03d5-41d0-9e65-b4c13d8a8728",
   "metadata": {},
   "source": [
    "5. **Build MODEL**: Here you add (i) the objective function, and (ii) all the constraints:"
   ]
  },
  {
   "cell_type": "code",
   "execution_count": null,
   "id": "44dd2783-49c1-44fd-952b-47743c9d4686",
   "metadata": {},
   "outputs": [],
   "source": [
    "model += obj_func\n",
    "model += C1\n",
    "model += C2\n",
    "model += C3\n"
   ]
  },
  {
   "cell_type": "markdown",
   "id": "2a332886-694b-40d8-98d3-e27066b28e96",
   "metadata": {},
   "source": [
    "6. **Solve the MODEL**: Notice we are not using the _default solver_, we are explicitly usig **COIN_CMD**:"
   ]
  },
  {
   "cell_type": "code",
   "execution_count": null,
   "id": "531d75fa-6e19-4ef4-9170-31aef8b88fa0",
   "metadata": {},
   "outputs": [],
   "source": [
    "solver_list = pp.listSolvers()\n",
    "print(solver_list)"
   ]
  },
  {
   "cell_type": "code",
   "execution_count": null,
   "id": "636442d1-a48c-4a3a-a84d-9f2312f3d473",
   "metadata": {},
   "outputs": [],
   "source": [
    "solverToUse = pp.COIN_CMD(msg=False)\n",
    "model.solve(solver=solverToUse);"
   ]
  },
  {
   "cell_type": "markdown",
   "id": "7db07777-25b5-46c9-9d51-f1d0e3ceb709",
   "metadata": {},
   "source": [
    "You can create a summary like this:"
   ]
  },
  {
   "cell_type": "code",
   "execution_count": null,
   "id": "3a0152d1-cdd5-4426-9ba6-90556a685048",
   "metadata": {},
   "outputs": [],
   "source": [
    "import pandas as pd\n",
    "\n",
    "Results={\"Model Status\":pp.LpStatus[model.status]}\n",
    "Results.update({\"Optimal Solution\":pp.value(model.objective)})\n",
    "Results.update({v.name: v.varValue for v in model.variables()})\n",
    "Results"
   ]
  },
  {
   "cell_type": "code",
   "execution_count": null,
   "id": "651fadcc-cb30-4caa-98e4-f6215c0be7a9",
   "metadata": {},
   "outputs": [],
   "source": [
    "#or\n",
    "pd.DataFrame.from_dict(Results,orient='index').T.set_index('Model Status').style.format('{:,}')"
   ]
  },
  {
   "cell_type": "markdown",
   "id": "9c025230-ed6e-40b1-ae5c-03bed5c5c0b7",
   "metadata": {},
   "source": [
    "<div class=\"alert-success\">\n",
    "\n",
    "<strong>Exercise: The diet problem</strong> "
   ]
  },
  {
   "cell_type": "code",
   "execution_count": null,
   "id": "a7e1cb7a",
   "metadata": {},
   "outputs": [],
   "source": [
    "%%html\n",
    "<iframe src=\"https://docs.google.com/presentation/d/e/2PACX-1vTSq9X74urGAB_5n_MIJ9ZGIboKSvBdokVTBXVLh_qqZnmLRTJioOF431Rzys3Qi9UaFwWXjeq6Wmd5/embed?start=false&loop=false&delayms=3000\" frameborder=\"0\" width=\"960\" height=\"569\" allowfullscreen=\"true\" mozallowfullscreen=\"true\" webkitallowfullscreen=\"true\"></iframe>"
   ]
  },
  {
   "cell_type": "markdown",
   "id": "2478f1d7-aa1c-4e6c-b404-d7faf01ab371",
   "metadata": {},
   "source": [
    "# Part 2: Multicriteria Decision-Making"
   ]
  },
  {
   "cell_type": "code",
   "execution_count": null,
   "id": "4bf5038e-daec-4f81-a2dd-afe31322f7e3",
   "metadata": {},
   "outputs": [],
   "source": [
    "%%html\n",
    "<iframe src=\"https://docs.google.com/presentation/d/e/2PACX-1vR7GL_wF1eKRO0JgEUyIx5cxXUhTQ8ZM4F3AE1MLr7GYG33dwEobrLo6O2MaV2d7Cv47TaTgHghkhrV/embed?start=false&loop=false&delayms=3000\" frameborder=\"0\" width=\"960\" height=\"569\" allowfullscreen=\"true\" mozallowfullscreen=\"true\" webkitallowfullscreen=\"true\"></iframe>"
   ]
  },
  {
   "cell_type": "code",
   "execution_count": 1,
   "id": "fc00fca3-dda9-4d50-85ce-0c2ef7b38526",
   "metadata": {},
   "outputs": [],
   "source": []
  },
  {
   "cell_type": "code",
   "execution_count": 2,
   "id": "5809ff85-e615-4bbb-bcd2-52527b788b5a",
   "metadata": {},
   "outputs": [],
   "source": [
    "# this in the folder\n",
    "from ahp.ahp import AHP"
   ]
  },
  {
   "cell_type": "code",
   "execution_count": 3,
   "id": "a808bc02-e456-46d7-bab0-ff357ac965c7",
   "metadata": {},
   "outputs": [],
   "source": [
    "import pandas as pd\n",
    "\n",
    "pairwise_age=pd.read_excel(\"ahp_tables.xlsx\",sheet_name='age', index_col=0)\n",
    "pairwise_experience=pd.read_excel(\"ahp_tables.xlsx\",sheet_name='experience', index_col=0)\n",
    "pairwise_education=pd.read_excel(\"ahp_tables.xlsx\",sheet_name='education', index_col=0)\n",
    "pairwise_charisma=pd.read_excel(\"ahp_tables.xlsx\",sheet_name='charisma', index_col=0)\n",
    "pairwise_criteria=pd.read_excel(\"ahp_tables.xlsx\",sheet_name='criteria', index_col=0)"
   ]
  },
  {
   "cell_type": "code",
   "execution_count": 4,
   "id": "aafb3e8b-151c-457c-b8e0-4d74c8c6d062",
   "metadata": {},
   "outputs": [
    {
     "data": {
      "text/html": [
       "<div>\n",
       "<style scoped>\n",
       "    .dataframe tbody tr th:only-of-type {\n",
       "        vertical-align: middle;\n",
       "    }\n",
       "\n",
       "    .dataframe tbody tr th {\n",
       "        vertical-align: top;\n",
       "    }\n",
       "\n",
       "    .dataframe thead th {\n",
       "        text-align: right;\n",
       "    }\n",
       "</style>\n",
       "<table border=\"1\" class=\"dataframe\">\n",
       "  <thead>\n",
       "    <tr style=\"text-align: right;\">\n",
       "      <th></th>\n",
       "      <th>Experience</th>\n",
       "      <th>Education</th>\n",
       "      <th>Charisma</th>\n",
       "      <th>Age</th>\n",
       "    </tr>\n",
       "  </thead>\n",
       "  <tbody>\n",
       "    <tr>\n",
       "      <th>Experience</th>\n",
       "      <td>1.000000</td>\n",
       "      <td>4.000000</td>\n",
       "      <td>3.000000</td>\n",
       "      <td>7</td>\n",
       "    </tr>\n",
       "    <tr>\n",
       "      <th>Education</th>\n",
       "      <td>0.250000</td>\n",
       "      <td>1.000000</td>\n",
       "      <td>0.333333</td>\n",
       "      <td>3</td>\n",
       "    </tr>\n",
       "    <tr>\n",
       "      <th>Charisma</th>\n",
       "      <td>0.333333</td>\n",
       "      <td>3.000000</td>\n",
       "      <td>1.000000</td>\n",
       "      <td>5</td>\n",
       "    </tr>\n",
       "    <tr>\n",
       "      <th>Age</th>\n",
       "      <td>0.142857</td>\n",
       "      <td>0.333333</td>\n",
       "      <td>0.200000</td>\n",
       "      <td>1</td>\n",
       "    </tr>\n",
       "  </tbody>\n",
       "</table>\n",
       "</div>"
      ],
      "text/plain": [
       "            Experience  Education  Charisma  Age\n",
       "Experience    1.000000   4.000000  3.000000    7\n",
       "Education     0.250000   1.000000  0.333333    3\n",
       "Charisma      0.333333   3.000000  1.000000    5\n",
       "Age           0.142857   0.333333  0.200000    1"
      ]
     },
     "execution_count": 4,
     "metadata": {},
     "output_type": "execute_result"
    }
   ],
   "source": [
    "pairwise_criteria"
   ]
  },
  {
   "cell_type": "code",
   "execution_count": 5,
   "id": "ead9dd7f-2dfb-4dd0-8edc-b9ff93f8fcce",
   "metadata": {},
   "outputs": [],
   "source": [
    "# follow the same order as the criteria\n",
    "data = [pairwise_experience.values.tolist(),\n",
    "        pairwise_education.values.tolist(),\n",
    "        pairwise_charisma.values.tolist(),\n",
    "        pairwise_age.values.tolist(),\n",
    "        pairwise_criteria.values.tolist()]"
   ]
  },
  {
   "cell_type": "code",
   "execution_count": 6,
   "id": "ebca576b-58a1-4215-a4ec-068843954724",
   "metadata": {},
   "outputs": [],
   "source": [
    "# instanciando o modelo\n",
    "ahp = AHP()\n",
    "\n",
    "# alimentando o modelo com os dados\n",
    "ahp.fit(data)"
   ]
  },
  {
   "cell_type": "code",
   "execution_count": 7,
   "id": "9ea4b19b-0975-4193-9034-d48fe7028c40",
   "metadata": {},
   "outputs": [
    {
     "data": {
      "text/html": [
       "<div>\n",
       "<style scoped>\n",
       "    .dataframe tbody tr th:only-of-type {\n",
       "        vertical-align: middle;\n",
       "    }\n",
       "\n",
       "    .dataframe tbody tr th {\n",
       "        vertical-align: top;\n",
       "    }\n",
       "\n",
       "    .dataframe thead th {\n",
       "        text-align: right;\n",
       "    }\n",
       "</style>\n",
       "<table border=\"1\" class=\"dataframe\">\n",
       "  <thead>\n",
       "    <tr style=\"text-align: right;\">\n",
       "      <th></th>\n",
       "      <th>Score</th>\n",
       "      <th>Ranking</th>\n",
       "    </tr>\n",
       "  </thead>\n",
       "  <tbody>\n",
       "    <tr>\n",
       "      <th>Tom</th>\n",
       "      <td>0.359067</td>\n",
       "      <td>2.0</td>\n",
       "    </tr>\n",
       "    <tr>\n",
       "      <th>Dick</th>\n",
       "      <td>0.488307</td>\n",
       "      <td>1.0</td>\n",
       "    </tr>\n",
       "    <tr>\n",
       "      <th>Harry</th>\n",
       "      <td>0.152626</td>\n",
       "      <td>3.0</td>\n",
       "    </tr>\n",
       "  </tbody>\n",
       "</table>\n",
       "</div>"
      ],
      "text/plain": [
       "          Score  Ranking\n",
       "Tom    0.359067      2.0\n",
       "Dick   0.488307      1.0\n",
       "Harry  0.152626      3.0"
      ]
     },
     "execution_count": 7,
     "metadata": {},
     "output_type": "execute_result"
    }
   ],
   "source": [
    "Solution=pd.DataFrame(index=pairwise_charisma.index)\n",
    "Solution['Score']=ahp.classificate()\n",
    "Solution['Ranking']=Solution.Score.rank(ascending=False)\n",
    "Solution"
   ]
  },
  {
   "cell_type": "code",
   "execution_count": null,
   "id": "7897a279-e9c1-4aa3-9459-310e03647083",
   "metadata": {},
   "outputs": [],
   "source": []
  }
 ],
 "metadata": {
  "kernelspec": {
   "display_name": "Python 3 (ipykernel)",
   "language": "python",
   "name": "python3"
  },
  "language_info": {
   "codemirror_mode": {
    "name": "ipython",
    "version": 3
   },
   "file_extension": ".py",
   "mimetype": "text/x-python",
   "name": "python",
   "nbconvert_exporter": "python",
   "pygments_lexer": "ipython3",
   "version": "3.11.5"
  }
 },
 "nbformat": 4,
 "nbformat_minor": 5
}
