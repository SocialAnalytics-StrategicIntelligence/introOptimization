{
 "cells": [
  {
   "cell_type": "markdown",
   "id": "e94c1246",
   "metadata": {},
   "source": [
    "<img src=\"https://i.imgur.com/6U6q5jQ.png\"/>\n",
    "\n",
    "_____\n",
    "<a id='home'></a>\n",
    "\n",
    "<a target=\"_blank\" href=\"https://colab.research.google.com/github/SocialAnalytics-StrategicIntelligence/introOptimization/blob/main/Intro_To_Optimization.ipynb\">\n",
    "  <img src=\"https://colab.research.google.com/assets/colab-badge.svg\" alt=\"Open In Colab\"/>\n",
    "</a>\n",
    "\n",
    "\n",
    "# Introduction to Optimization for Decision Making\n"
   ]
  },
  {
   "cell_type": "code",
   "execution_count": null,
   "id": "4e38af10",
   "metadata": {
    "scrolled": true
   },
   "outputs": [],
   "source": [
    "%%html\n",
    "<iframe src=\"https://docs.google.com/presentation/d/e/2PACX-1vQHq0p2eTmxRWJjDmo1mUmdarYgIrEew4ieiVbIGQy-D_CyBw5rbbRUlRxwLKKaVQpRV9Hs8MGnz0X2/embed?start=false&loop=false&delayms=3000\" frameborder=\"0\" width=\"960\" height=\"569\" allowfullscreen=\"true\" mozallowfullscreen=\"true\" webkitallowfullscreen=\"true\"></iframe>"
   ]
  },
  {
   "cell_type": "markdown",
   "id": "869a5ade-2e6f-4ccd-8fd6-b4f276cff22f",
   "metadata": {},
   "source": [
    "# Part 1: Maximization/Minimization "
   ]
  },
  {
   "cell_type": "markdown",
   "id": "1f02e23b",
   "metadata": {},
   "source": [
    "Please, go to your _environment_ in Anacoda Navigator to install **glpk** and **pulp**  before runing the codes below.\n",
    "Then, call the library:"
   ]
  },
  {
   "cell_type": "code",
   "execution_count": null,
   "id": "2d2e3d99-7100-4941-aad8-57b178798e94",
   "metadata": {},
   "outputs": [],
   "source": [
    "# pip show glpk pulp\n",
    "# pip install glpk pulp"
   ]
  },
  {
   "cell_type": "code",
   "execution_count": null,
   "id": "a105dc9b-d105-49d3-8093-96d03eca9530",
   "metadata": {},
   "outputs": [],
   "source": [
    "import pulp as pp"
   ]
  },
  {
   "cell_type": "markdown",
   "id": "dd461c8a-8a20-4a93-aa9e-2b46c1deaf52",
   "metadata": {},
   "source": [
    "1. **Initialize the MODEL**: just write the name and declare if it is maximization or minimization problem type."
   ]
  },
  {
   "cell_type": "code",
   "execution_count": null,
   "id": "4436e0c7",
   "metadata": {},
   "outputs": [],
   "source": [
    "model = pp.LpProblem(name='refinery-problem', # just the name\n",
    "                     sense=pp.LpMaximize) # type of problem"
   ]
  },
  {
   "cell_type": "markdown",
   "id": "c001fd3a-190b-45d8-9fa3-c3e21578fa03",
   "metadata": {},
   "source": [
    "2. **Declare the VARIABLES**: The refinery model consists of these _variables_:"
   ]
  },
  {
   "cell_type": "code",
   "execution_count": null,
   "id": "8533e838-9e02-4ca8-85ef-de557cb1dd7c",
   "metadata": {},
   "outputs": [],
   "source": [
    "# how much gas?\n",
    "Gas = pp.LpVariable(name=\"Gas\",  # just the name\n",
    "                    lowBound=0,  # ensure non-negativity\n",
    "                    cat='Continuous') # here: you accept decimal values\n",
    "\n",
    "# how much oil?\n",
    "Oil = pp.LpVariable(name=\"Oil\",\n",
    "                 lowBound=0,\n",
    "                 cat='Continuous')"
   ]
  },
  {
   "cell_type": "markdown",
   "id": "611438aa-54e1-4cdd-aa77-44702feb498a",
   "metadata": {},
   "source": [
    "3. **Create function to OPTIMIZE**: The function is just the linear combination of the variables and their _given coefficients__: "
   ]
  },
  {
   "cell_type": "code",
   "execution_count": null,
   "id": "e676c256-353d-4fbd-a206-6914f29ff8ba",
   "metadata": {},
   "outputs": [],
   "source": [
    "GasCoeff=1.9\n",
    "OilCoeff=1.5\n",
    "obj_func = GasCoeff*Gas + OilCoeff*Oil"
   ]
  },
  {
   "cell_type": "markdown",
   "id": "65a5c48f-d28c-489a-bcd4-f97be76b57c7",
   "metadata": {},
   "source": [
    "4. **Represent the constraints**: These are the rules the model (set of variables) must obey:"
   ]
  },
  {
   "cell_type": "code",
   "execution_count": null,
   "id": "c24146f7-5db5-4606-90fd-9bc010685754",
   "metadata": {},
   "outputs": [],
   "source": [
    "# SUBJECT TO:\n",
    "C1= pp.LpConstraint(name='Gas Constraint',   # just the name\n",
    "                    e= 1*Gas - 2*Oil, rhs=0, # linear combination of constraint and rhs \n",
    "                    sense=pp.LpConstraintGE) # 'rule' >= 0 (LpConstraintGE)\n",
    "C2= pp.LpConstraint(name='Oil Constraint',\n",
    "                    e= 1*Oil, rhs=3000000,\n",
    "                    sense=pp.LpConstraintGE) # 'rule' >= 3000000 (LpConstraintGE)\n",
    "C3= pp.LpConstraint(name='Demand Constraint',\n",
    "                    e= 1*Gas, rhs=6400000,\n",
    "                    sense=pp.LpConstraintLE, )# 'rule' <= 6400000 (LpConstraintLE)"
   ]
  },
  {
   "cell_type": "markdown",
   "id": "10465ba5-03d5-41d0-9e65-b4c13d8a8728",
   "metadata": {},
   "source": [
    "5. **Build MODEL**: Here you add (i) the objective function, and (ii) all the constraints:"
   ]
  },
  {
   "cell_type": "code",
   "execution_count": null,
   "id": "44dd2783-49c1-44fd-952b-47743c9d4686",
   "metadata": {},
   "outputs": [],
   "source": [
    "model += obj_func\n",
    "model += C1\n",
    "model += C2\n",
    "model += C3\n"
   ]
  },
  {
   "cell_type": "markdown",
   "id": "2a332886-694b-40d8-98d3-e27066b28e96",
   "metadata": {},
   "source": [
    "6. **Solve the MODEL**: Notice we are not using the _default solver_, we are explicitly usig **COIN_CMD**:"
   ]
  },
  {
   "cell_type": "code",
   "execution_count": null,
   "id": "531d75fa-6e19-4ef4-9170-31aef8b88fa0",
   "metadata": {},
   "outputs": [],
   "source": [
    "solver_list = pp.listSolvers()\n",
    "print(solver_list)"
   ]
  },
  {
   "cell_type": "code",
   "execution_count": null,
   "id": "636442d1-a48c-4a3a-a84d-9f2312f3d473",
   "metadata": {},
   "outputs": [],
   "source": [
    "solverToUse = pp.COIN_CMD(msg=False)\n",
    "model.solve(solver=solverToUse);"
   ]
  },
  {
   "cell_type": "markdown",
   "id": "7db07777-25b5-46c9-9d51-f1d0e3ceb709",
   "metadata": {},
   "source": [
    "You can create a summary like this:"
   ]
  },
  {
   "cell_type": "code",
   "execution_count": null,
   "id": "3a0152d1-cdd5-4426-9ba6-90556a685048",
   "metadata": {},
   "outputs": [],
   "source": [
    "import pandas as pd\n",
    "\n",
    "Results={\"Model Status\":pp.LpStatus[model.status]}\n",
    "Results.update({\"Optimal Solution\":pp.value(model.objective)})\n",
    "Results.update({v.name: v.varValue for v in model.variables()})\n",
    "Results"
   ]
  },
  {
   "cell_type": "code",
   "execution_count": null,
   "id": "651fadcc-cb30-4caa-98e4-f6215c0be7a9",
   "metadata": {},
   "outputs": [],
   "source": [
    "#or\n",
    "pd.DataFrame.from_dict(Results,orient='index').T.set_index('Model Status').style.format('{:,}')"
   ]
  },
  {
   "cell_type": "markdown",
   "id": "9c025230-ed6e-40b1-ae5c-03bed5c5c0b7",
   "metadata": {},
   "source": [
    "<div class=\"alert-success\">\n",
    "\n",
    "<strong>Exercise: The diet problem</strong> "
   ]
  },
  {
   "cell_type": "code",
   "execution_count": null,
   "id": "a7e1cb7a",
   "metadata": {},
   "outputs": [],
   "source": [
    "%%html\n",
    "<iframe src=\"https://docs.google.com/presentation/d/e/2PACX-1vTSq9X74urGAB_5n_MIJ9ZGIboKSvBdokVTBXVLh_qqZnmLRTJioOF431Rzys3Qi9UaFwWXjeq6Wmd5/embed?start=false&loop=false&delayms=3000\" frameborder=\"0\" width=\"960\" height=\"569\" allowfullscreen=\"true\" mozallowfullscreen=\"true\" webkitallowfullscreen=\"true\"></iframe>"
   ]
  },
  {
   "cell_type": "markdown",
   "id": "2478f1d7-aa1c-4e6c-b404-d7faf01ab371",
   "metadata": {},
   "source": [
    "# Part 2: Multicriteria Decision-Making"
   ]
  },
  {
   "cell_type": "code",
   "execution_count": null,
   "id": "4bf5038e-daec-4f81-a2dd-afe31322f7e3",
   "metadata": {},
   "outputs": [],
   "source": [
    "%%html\n",
    "<iframe src=\"https://docs.google.com/presentation/d/e/2PACX-1vR7GL_wF1eKRO0JgEUyIx5cxXUhTQ8ZM4F3AE1MLr7GYG33dwEobrLo6O2MaV2d7Cv47TaTgHghkhrV/embed?start=false&loop=false&delayms=3000\" frameborder=\"0\" width=\"960\" height=\"569\" allowfullscreen=\"true\" mozallowfullscreen=\"true\" webkitallowfullscreen=\"true\"></iframe>"
   ]
  },
  {
   "cell_type": "markdown",
   "id": "a0717b92-b145-4499-baad-fa95a1a755cf",
   "metadata": {},
   "source": [
    "1. Prepare data file with the comparissons:"
   ]
  },
  {
   "cell_type": "code",
   "execution_count": null,
   "id": "227c2b77-cc4e-4437-b7bc-c522b22168d8",
   "metadata": {},
   "outputs": [],
   "source": [
    "%%html\n",
    "\n",
    "<iframe src=\"https://docs.google.com/spreadsheets/d/e/2PACX-1vSeUfh-DtfAAvEecirNS7Qs2qN4npmNfRiw9JvKmRpq88snVc8HJBlru2cyPy8lsQflSxlnx6U-IePw/pubhtml?widget=true&amp;headers=false\" width=\"600\" height=\"300\" ></iframe>"
   ]
  },
  {
   "cell_type": "markdown",
   "id": "52def875-21cf-4270-a9b2-d61aed9fc025",
   "metadata": {},
   "source": [
    "2. Get the data (Excel)"
   ]
  },
  {
   "cell_type": "code",
   "execution_count": null,
   "id": "5afba538-ee4e-4a1b-9573-22dcbb177db5",
   "metadata": {},
   "outputs": [],
   "source": [
    "# the link to the data\n",
    "\n",
    "linkGoogle='https://docs.google.com/spreadsheets/d/e/2PACX-1vSeUfh-DtfAAvEecirNS7Qs2qN4npmNfRiw9JvKmRpq88snVc8HJBlru2cyPy8lsQflSxlnx6U-IePw/pub?output=xlsx'# the link to the data"
   ]
  },
  {
   "cell_type": "markdown",
   "id": "7c73c2ca-2022-42e9-bf24-1559b215d7a9",
   "metadata": {},
   "source": [
    "3. Open each sheet:"
   ]
  },
  {
   "cell_type": "code",
   "execution_count": null,
   "id": "eb165cc5-95fb-499a-a6f5-9306914d7249",
   "metadata": {},
   "outputs": [],
   "source": [
    "# opening the comparissons\n",
    "\n",
    "import pandas as pd\n",
    "\n",
    "pairwise_age=pd.read_excel(linkGoogle,sheet_name='age', index_col=0)\n",
    "pairwise_experience=pd.read_excel(linkGoogle,sheet_name='experience', index_col=0)\n",
    "pairwise_education=pd.read_excel(linkGoogle,sheet_name='education', index_col=0)\n",
    "pairwise_charisma=pd.read_excel(linkGoogle,sheet_name='charisma', index_col=0)\n",
    "pairwise_criteria=pd.read_excel(linkGoogle,sheet_name='criteria', index_col=0)"
   ]
  },
  {
   "cell_type": "markdown",
   "id": "5f775058-f007-4d9a-8655-98021ef0a1e0",
   "metadata": {},
   "source": [
    "You may want to check the structure:"
   ]
  },
  {
   "cell_type": "code",
   "execution_count": null,
   "id": "bb707240-1275-4408-9471-7842c7b43c85",
   "metadata": {},
   "outputs": [],
   "source": [
    "pairwise_criteria"
   ]
  },
  {
   "cell_type": "markdown",
   "id": "cc2b0d2d-68f7-4f44-a016-7ade98c2edc0",
   "metadata": {},
   "source": [
    "4. Transform all matrices into pairwise comparissons:"
   ]
  },
  {
   "cell_type": "code",
   "execution_count": null,
   "id": "7489673e-1160-4fb9-af4e-17bd6c3d47b5",
   "metadata": {},
   "outputs": [],
   "source": [
    "import networkx as nx\n",
    "\n",
    "G_age = nx.from_pandas_adjacency(pairwise_age,create_using=nx.MultiDiGraph())\n",
    "\n",
    "# pairwise\n",
    "G_age.edges(data=True)"
   ]
  },
  {
   "cell_type": "code",
   "execution_count": null,
   "id": "5c159762-70a2-4d13-aca5-77ad593cc8d7",
   "metadata": {},
   "outputs": [],
   "source": [
    "# comparissons for age as dict\n",
    "age_comparisons ={(e[0],e[1]):e[2]['weight'] for e in G_age.edges(data=True) if e[0]!= e[1]}\n",
    "age_comparisons"
   ]
  },
  {
   "cell_type": "code",
   "execution_count": null,
   "id": "91910bf0-55d1-4001-adcd-aeb255486e32",
   "metadata": {},
   "outputs": [],
   "source": [
    "# the remaining comparissons:\n",
    "\n",
    "G_exp = nx.from_pandas_adjacency(pairwise_experience,create_using=nx.MultiDiGraph())\n",
    "experience_comparisons={(e[0],e[1]):e[2]['weight'] for e in G_exp.edges(data=True) if e[0]!= e[1]}\n",
    "\n",
    "G_edu = nx.from_pandas_adjacency(pairwise_education,create_using=nx.MultiDiGraph())\n",
    "education_comparisons={(e[0],e[1]):e[2]['weight'] for e in G_edu.edges(data=True) if e[0]!= e[1]}\n",
    "\n",
    "G_cha = nx.from_pandas_adjacency(pairwise_charisma,create_using=nx.MultiDiGraph())\n",
    "charisma_comparisons={(e[0],e[1]):e[2]['weight'] for e in G_cha.edges(data=True) if e[0]!= e[1]}"
   ]
  },
  {
   "cell_type": "code",
   "execution_count": null,
   "id": "1a060b13-70ec-4121-bf45-a073435eca58",
   "metadata": {},
   "outputs": [],
   "source": [
    "# take a look\n",
    "[age_comparisons, experience_comparisons,education_comparisons,charisma_comparisons]"
   ]
  },
  {
   "cell_type": "code",
   "execution_count": null,
   "id": "c84996bc-4941-42cb-8855-54c72a6737a9",
   "metadata": {},
   "outputs": [],
   "source": [
    "# now the criteria\n",
    "\n",
    "G_CRIT = nx.from_pandas_adjacency(pairwise_criteria,create_using=nx.MultiDiGraph())\n",
    "criteria_comparisons ={(e[0],e[1]):e[2]['weight'] for e in G_CRIT.edges(data=True) if e[0]!= e[1]}\n",
    "criteria_comparisons"
   ]
  },
  {
   "cell_type": "markdown",
   "id": "537c0ad5-e1b0-4d49-a60c-e7a3a0d95c2d",
   "metadata": {},
   "source": [
    "5. Apply the Algorithm"
   ]
  },
  {
   "cell_type": "code",
   "execution_count": null,
   "id": "69e67f1d-408e-446b-9991-0566a0aaee5b",
   "metadata": {},
   "outputs": [],
   "source": [
    "## install\n",
    "# !pip install ahpy"
   ]
  },
  {
   "cell_type": "code",
   "execution_count": null,
   "id": "16ec39e8-0c5e-4803-8a05-00b354bc2133",
   "metadata": {},
   "outputs": [],
   "source": [
    "# input each comparisson\n",
    "\n",
    "import ahpy\n",
    "\n",
    "experience = ahpy.Compare('experience', experience_comparisons, precision=3, random_index='saaty')\n",
    "education = ahpy.Compare('education', education_comparisons, precision=3, random_index='saaty')\n",
    "charisma = ahpy.Compare('charisma', charisma_comparisons, precision=3, random_index='saaty')\n",
    "age = ahpy.Compare('age', age_comparisons, precision=3, random_index='saaty')\n",
    "criteria = ahpy.Compare('criteria', criteria_comparisons, precision=3, random_index='saaty')"
   ]
  },
  {
   "cell_type": "markdown",
   "id": "e6ab4dfb-efc1-4940-adf9-21e2940fcb33",
   "metadata": {},
   "source": [
    "6. Create hierarchy:"
   ]
  },
  {
   "cell_type": "code",
   "execution_count": null,
   "id": "7cdf93ec-edf1-4127-8734-885d6da1c855",
   "metadata": {},
   "outputs": [],
   "source": [
    "criteria.add_children([experience, education, charisma, age])"
   ]
  },
  {
   "cell_type": "markdown",
   "id": "ebc25b0c-6a21-439e-a4da-6c8d5e50797d",
   "metadata": {},
   "source": [
    "7. See result:"
   ]
  },
  {
   "cell_type": "code",
   "execution_count": null,
   "id": "ba46787a-e341-4867-9321-412f8be5a92a",
   "metadata": {},
   "outputs": [],
   "source": [
    "print(criteria.target_weights)"
   ]
  },
  {
   "cell_type": "markdown",
   "id": "2dc9dcde-7d2b-4bb8-8d93-c16b73f4347b",
   "metadata": {},
   "source": [
    "8. Assess consistency"
   ]
  },
  {
   "cell_type": "code",
   "execution_count": null,
   "id": "c07344a5-0ed2-4d7a-9f44-a284a3ee122b",
   "metadata": {},
   "outputs": [],
   "source": [
    "## We should review comparissons if greater than 0.1!\n",
    "[(val.name,val.consistency_ratio) for val in [experience, education, charisma, age, criteria]]"
   ]
  },
  {
   "cell_type": "markdown",
   "id": "b50bc5f6-7d5d-4a90-bf30-ec0cd2e9aaac",
   "metadata": {},
   "source": [
    "<div class=\"alert-success\">\n",
    "\n",
    "<strong>Exercise: Choosing a country for a Master Program</strong> \n",
    "\n",
    "- Make a group of 4 people from this course.\n",
    "- If you have the criteria: cost of living, language difficulty, possibilities to get a job in that country after studies are finished.\n",
    "- If you have the alternatives: Brazil, Spain, USA, Germany.\n",
    "- Create an AHP model and get the ranking.\n",
    "\n",
    "You can follow this [example](https://en.wikipedia.org/wiki/Analytic_hierarchy_process_%E2%80%93_leader_example).\n",
    "If you have a better idea, you can use it instead."
   ]
  },
  {
   "cell_type": "markdown",
   "id": "60f6a0b9-872e-40c1-b681-64d6a9dc26e2",
   "metadata": {},
   "source": [
    "# Part 3: Benchmarking"
   ]
  },
  {
   "cell_type": "markdown",
   "id": "3552b7d8-df4d-4c4f-80e5-bfbe4f2211af",
   "metadata": {},
   "source": [
    "Imagine you have this [information](https://www.sciencedirect.com/science/article/abs/pii/S0377221711007168):"
   ]
  },
  {
   "cell_type": "code",
   "execution_count": 65,
   "id": "908e917e-bed6-488b-9a6b-dafbe5f6d1e5",
   "metadata": {},
   "outputs": [
    {
     "data": {
      "text/html": [
       "<div>\n",
       "<style scoped>\n",
       "    .dataframe tbody tr th:only-of-type {\n",
       "        vertical-align: middle;\n",
       "    }\n",
       "\n",
       "    .dataframe tbody tr th {\n",
       "        vertical-align: top;\n",
       "    }\n",
       "\n",
       "    .dataframe thead th {\n",
       "        text-align: right;\n",
       "    }\n",
       "</style>\n",
       "<table border=\"1\" class=\"dataframe\">\n",
       "  <thead>\n",
       "    <tr style=\"text-align: right;\">\n",
       "      <th></th>\n",
       "      <th>name</th>\n",
       "      <th>Aircraft</th>\n",
       "      <th>Fuel</th>\n",
       "      <th>Employee</th>\n",
       "      <th>Passenger</th>\n",
       "      <th>Freight</th>\n",
       "    </tr>\n",
       "  </thead>\n",
       "  <tbody>\n",
       "    <tr>\n",
       "      <th>0</th>\n",
       "      <td>A</td>\n",
       "      <td>109</td>\n",
       "      <td>392</td>\n",
       "      <td>8259</td>\n",
       "      <td>23756</td>\n",
       "      <td>870</td>\n",
       "    </tr>\n",
       "    <tr>\n",
       "      <th>1</th>\n",
       "      <td>B</td>\n",
       "      <td>115</td>\n",
       "      <td>381</td>\n",
       "      <td>9628</td>\n",
       "      <td>24183</td>\n",
       "      <td>1359</td>\n",
       "    </tr>\n",
       "    <tr>\n",
       "      <th>2</th>\n",
       "      <td>C</td>\n",
       "      <td>767</td>\n",
       "      <td>2673</td>\n",
       "      <td>70923</td>\n",
       "      <td>163483</td>\n",
       "      <td>12449</td>\n",
       "    </tr>\n",
       "    <tr>\n",
       "      <th>3</th>\n",
       "      <td>D</td>\n",
       "      <td>90</td>\n",
       "      <td>282</td>\n",
       "      <td>9683</td>\n",
       "      <td>10370</td>\n",
       "      <td>509</td>\n",
       "    </tr>\n",
       "    <tr>\n",
       "      <th>4</th>\n",
       "      <td>E</td>\n",
       "      <td>461</td>\n",
       "      <td>1608</td>\n",
       "      <td>40630</td>\n",
       "      <td>99047</td>\n",
       "      <td>3726</td>\n",
       "    </tr>\n",
       "    <tr>\n",
       "      <th>5</th>\n",
       "      <td>F</td>\n",
       "      <td>628</td>\n",
       "      <td>2074</td>\n",
       "      <td>47420</td>\n",
       "      <td>128635</td>\n",
       "      <td>9214</td>\n",
       "    </tr>\n",
       "    <tr>\n",
       "      <th>6</th>\n",
       "      <td>G</td>\n",
       "      <td>81</td>\n",
       "      <td>75</td>\n",
       "      <td>7115</td>\n",
       "      <td>11962</td>\n",
       "      <td>536</td>\n",
       "    </tr>\n",
       "    <tr>\n",
       "      <th>7</th>\n",
       "      <td>I</td>\n",
       "      <td>153</td>\n",
       "      <td>458</td>\n",
       "      <td>10177</td>\n",
       "      <td>32436</td>\n",
       "      <td>1462</td>\n",
       "    </tr>\n",
       "    <tr>\n",
       "      <th>8</th>\n",
       "      <td>J</td>\n",
       "      <td>455</td>\n",
       "      <td>1722</td>\n",
       "      <td>29124</td>\n",
       "      <td>83862</td>\n",
       "      <td>6337</td>\n",
       "    </tr>\n",
       "    <tr>\n",
       "      <th>9</th>\n",
       "      <td>K</td>\n",
       "      <td>103</td>\n",
       "      <td>400</td>\n",
       "      <td>8987</td>\n",
       "      <td>14618</td>\n",
       "      <td>785</td>\n",
       "    </tr>\n",
       "    <tr>\n",
       "      <th>10</th>\n",
       "      <td>L</td>\n",
       "      <td>547</td>\n",
       "      <td>1217</td>\n",
       "      <td>34680</td>\n",
       "      <td>99636</td>\n",
       "      <td>6597</td>\n",
       "    </tr>\n",
       "    <tr>\n",
       "      <th>11</th>\n",
       "      <td>M</td>\n",
       "      <td>560</td>\n",
       "      <td>2532</td>\n",
       "      <td>51536</td>\n",
       "      <td>135480</td>\n",
       "      <td>10928</td>\n",
       "    </tr>\n",
       "    <tr>\n",
       "      <th>12</th>\n",
       "      <td>N</td>\n",
       "      <td>423</td>\n",
       "      <td>1303</td>\n",
       "      <td>32683</td>\n",
       "      <td>74106</td>\n",
       "      <td>4258</td>\n",
       "    </tr>\n",
       "  </tbody>\n",
       "</table>\n",
       "</div>"
      ],
      "text/plain": [
       "   name  Aircraft  Fuel  Employee  Passenger  Freight\n",
       "0     A       109   392      8259      23756      870\n",
       "1     B       115   381      9628      24183     1359\n",
       "2     C       767  2673     70923     163483    12449\n",
       "3     D        90   282      9683      10370      509\n",
       "4     E       461  1608     40630      99047     3726\n",
       "5     F       628  2074     47420     128635     9214\n",
       "6     G        81    75      7115      11962      536\n",
       "7     I       153   458     10177      32436     1462\n",
       "8     J       455  1722     29124      83862     6337\n",
       "9     K       103   400      8987      14618      785\n",
       "10    L       547  1217     34680      99636     6597\n",
       "11    M       560  2532     51536     135480    10928\n",
       "12    N       423  1303     32683      74106     4258"
      ]
     },
     "execution_count": 65,
     "metadata": {},
     "output_type": "execute_result"
    }
   ],
   "source": [
    "airline=pd.read_csv(\"airlines_data.csv\")\n",
    "airline"
   ]
  },
  {
   "cell_type": "markdown",
   "id": "10e0fa9a-0cbc-4be6-86a3-e6a457f5e201",
   "metadata": {},
   "source": [
    "The first three variables (Aircraft,Fuel,Employee) represent **inputs** and the last two ones represent **outputs**. If that is so, there should be a way to compute some measure of efficiency: the ratio **output/input**.\n",
    "\n",
    "Let's compute some ratios:"
   ]
  },
  {
   "cell_type": "code",
   "execution_count": null,
   "id": "6f5812f5-d64b-4d05-91e7-57159dbc6368",
   "metadata": {},
   "outputs": [],
   "source": [
    "# ratio passenger employee:\n",
    "airline['rate_ClientsByEmployee']=(airline.Passenger/airline.Employee)\n",
    "airline['rate_CargoByFleet']=(airline.Freight/airline.Aircraft)"
   ]
  },
  {
   "cell_type": "markdown",
   "id": "dd7ee6d4-1673-4976-a4a6-2f10b3de2135",
   "metadata": {},
   "source": [
    "Let me plot those ratios:"
   ]
  },
  {
   "cell_type": "code",
   "execution_count": null,
   "id": "2f2c746f-28fb-4e24-92d2-aaffc4af7658",
   "metadata": {},
   "outputs": [],
   "source": [
    "import altair as alt\n",
    "\n",
    "points = alt.Chart(airline).mark_point().encode(\n",
    "    x='rate_ClientsByEmployee:Q',\n",
    "    y='rate_CargoByFleet:Q'\n",
    ")\n",
    "\n",
    "text = points.mark_text(\n",
    "    align='right',\n",
    "    baseline='middle',\n",
    "    dx=-7\n",
    ").encode(\n",
    "    text='name'\n",
    ").interactive()\n",
    "\n",
    "points + text"
   ]
  },
  {
   "cell_type": "markdown",
   "id": "c0665021-e733-4e7d-bf03-fca028b269c9",
   "metadata": {},
   "source": [
    "Which one is more efficient? As you see, one airline might not be good in both ratios:"
   ]
  },
  {
   "cell_type": "code",
   "execution_count": null,
   "id": "9333f68a-1e25-4d03-907d-f142a623823f",
   "metadata": {},
   "outputs": [],
   "source": [
    "airline[['name','rate_ClientsByEmployee','rate_CargoByFleet']].sort_values(by='rate_ClientsByEmployee',ascending=False).head()"
   ]
  },
  {
   "cell_type": "code",
   "execution_count": null,
   "id": "3c2a7e8b-71ba-4f97-a0de-1e4bc02f285f",
   "metadata": {},
   "outputs": [],
   "source": [
    "airline[['name','rate_ClientsByEmployee','rate_CargoByFleet']].sort_values(by='rate_CargoByFleet',ascending=False).head()"
   ]
  },
  {
   "cell_type": "markdown",
   "id": "d22cef46-f69f-4ca0-bfe0-69e4d6cd2f81",
   "metadata": {},
   "source": [
    "Let me show you the **envelope**:"
   ]
  },
  {
   "cell_type": "code",
   "execution_count": null,
   "id": "d71901fd-13dc-45c1-b01f-39005c3b04a7",
   "metadata": {},
   "outputs": [],
   "source": [
    "Best_ClientsByEmployee=airline.rate_ClientsByEmployee.idxmax()\n",
    "Best_CargoByFleet=airline.rate_CargoByFleet.idxmax()\n",
    "\n",
    "frontier1=airline.loc[Best_ClientsByEmployee,['rate_ClientsByEmployee','rate_CargoByFleet']].to_list()\n",
    "frontier2=airline.loc[Best_CargoByFleet,['rate_ClientsByEmployee','rate_CargoByFleet']].to_list()\n",
    "\n",
    "#parallels\n",
    "frontier1v=[frontier1[0],0]\n",
    "frontier2h=[0,frontier2[1]]\n",
    "\n",
    "#then\n",
    "envelope=pd.DataFrame([frontier2h,frontier2,frontier1,frontier1v],columns=['x','y'])\n",
    "envelope"
   ]
  },
  {
   "cell_type": "markdown",
   "id": "d4253373-1d5a-4944-a782-922959dd399b",
   "metadata": {},
   "source": [
    "Updating the plot:"
   ]
  },
  {
   "cell_type": "code",
   "execution_count": null,
   "id": "ca1f47ef-b224-4141-aade-887208a19fa5",
   "metadata": {},
   "outputs": [],
   "source": [
    "points + text + alt.Chart(envelope).mark_line(color='red').encode(\n",
    "    x='x',\n",
    "    y='y',\n",
    ")"
   ]
  },
  {
   "cell_type": "markdown",
   "id": "2ef65583-5277-43fd-8338-080d7f7d8525",
   "metadata": {},
   "source": [
    "The presence of several units (DMUs), several inputs, and several outputs makes it difficult to judge who is doing better. This an optimization problem that may be carried out using **Pyfrontier**:"
   ]
  },
  {
   "cell_type": "code",
   "execution_count": null,
   "id": "4247566e-f442-4151-a776-d5aafbe4e93e",
   "metadata": {},
   "outputs": [],
   "source": [
    "## installation\n",
    "# pip install Pyfrontier"
   ]
  },
  {
   "cell_type": "code",
   "execution_count": null,
   "id": "e157f107-913d-4877-b1a3-3bae3e0e93e9",
   "metadata": {},
   "outputs": [],
   "source": [
    "airlineInput=airline.columns[1:4].to_list()\n",
    "airlineOutput=airline.columns[4:6].to_list()"
   ]
  },
  {
   "cell_type": "code",
   "execution_count": null,
   "id": "8d077a3c-08f5-4ee2-98fe-36cc707522b9",
   "metadata": {},
   "outputs": [],
   "source": [
    "from Pyfrontier.frontier_model import EnvelopDEA\n",
    "\n",
    "dea_air_vrs_in = EnvelopDEA(\"VRS\", \"in\")\n",
    "dea_air_vrs_in.fit(\n",
    "    inputs=airline[airlineInput].to_numpy(),\n",
    "    outputs=airline[airlineOutput].to_numpy()\n",
    ")"
   ]
  },
  {
   "cell_type": "code",
   "execution_count": null,
   "id": "e32467cf-2e43-4d22-92f9-3258d1a11c8d",
   "metadata": {},
   "outputs": [],
   "source": []
  },
  {
   "cell_type": "code",
   "execution_count": null,
   "id": "c17a4a4d-7f6a-438f-be27-21f157a67f84",
   "metadata": {},
   "outputs": [],
   "source": [
    "VRS_in=pd.DataFrame()\n",
    "vrs_in_names_output=['_'.join((a,'vrs_in_sl')) for a in airlineOutput]\n",
    "vrs_in_names_input=['_'.join((a,'vrs_in_sl')) for a in airlineInput]\n",
    "\n",
    "VRS_in['vrs_in']=[r.score for r in dea_air_vrs_in.result]\n",
    "VRS_in[vrs_in_names_input]=[[round(v,2) for v in r.x_slack] for r in dea_air_vrs_in.result]\n",
    "VRS_in[vrs_in_names_output]=[[round(v,2) for v in r.y_slack] for r in dea_air_vrs_in.result]\n",
    "VRS_in['efficient_vrs_in']=[r.is_efficient for r in dea_air_vrs_in.result]\n",
    "VRS_in.set_index(airline.name,inplace=True)\n",
    "VRS_in"
   ]
  },
  {
   "cell_type": "code",
   "execution_count": null,
   "id": "d5c4d1b2-2145-48bd-b917-1971cff0b9a3",
   "metadata": {},
   "outputs": [],
   "source": [
    "VRS_in.vrs_in"
   ]
  },
  {
   "cell_type": "code",
   "execution_count": null,
   "id": "ec4d79c0-1d23-4836-8b2b-e6deeb98e291",
   "metadata": {},
   "outputs": [],
   "source": [
    "airline['vrsin']=[r.score for r in dea_air_vrs_in.result]\n",
    "airline"
   ]
  },
  {
   "cell_type": "code",
   "execution_count": null,
   "id": "aec8fe2a-09f2-400c-960b-2b12450c35a8",
   "metadata": {},
   "outputs": [],
   "source": [
    "# !pip install py4etrics\n"
   ]
  },
  {
   "cell_type": "code",
   "execution_count": null,
   "id": "db3f11f1-6520-4303-9dc9-e7352153afb0",
   "metadata": {},
   "outputs": [],
   "source": [
    "import numpy as np # linear algebra\n",
    "from py4etrics import tobit\n",
    "import statsmodels.api as sm"
   ]
  },
  {
   "cell_type": "code",
   "execution_count": null,
   "id": "fe3a880a-358e-4cfa-a77a-e77a14d1b220",
   "metadata": {},
   "outputs": [],
   "source": [
    "np.where(airline['vrsin']==1, 1, 0)"
   ]
  },
  {
   "cell_type": "code",
   "execution_count": null,
   "id": "bb7aa00c-f2cd-4135-b436-cb79b8deae81",
   "metadata": {},
   "outputs": [],
   "source": [
    "airline.loc[:,'Aircraft':'Freight']"
   ]
  },
  {
   "cell_type": "code",
   "execution_count": null,
   "id": "62453833-4481-4302-8d20-dd7d3a6757ce",
   "metadata": {},
   "outputs": [],
   "source": [
    "airline['censored'] =np.where(airline['vrsin']==1, 1, 0)\n",
    "cens = airline['censored']#.values\n",
    "endog = airline.loc[:,'vrsin']\n",
    "exog = airline.loc[:,'Aircraft':'Freight']\n",
    "\n",
    "tobit_res = tobit.Tobit(endog, exog, cens,right=1).fit()\n",
    "tobit_res.summary()"
   ]
  },
  {
   "cell_type": "code",
   "execution_count": null,
   "id": "4c5fb415-565e-465f-a614-1147f49e3ca1",
   "metadata": {},
   "outputs": [],
   "source": [
    "airline.to_csv('airline_all.csv')"
   ]
  },
  {
   "cell_type": "code",
   "execution_count": null,
   "id": "0e3d4af0-fa20-4898-9ec6-e66312669931",
   "metadata": {},
   "outputs": [],
   "source": [
    "import pandas as pd\n",
    "df = pd.read_csv(\"georgian_bay_secchi.csv\")\n",
    "df.head()"
   ]
  },
  {
   "cell_type": "code",
   "execution_count": null,
   "id": "da4075d4-9c1b-441c-a983-0f96c495af11",
   "metadata": {},
   "outputs": [],
   "source": [
    "df.info()"
   ]
  },
  {
   "cell_type": "code",
   "execution_count": null,
   "id": "6830033b-3a3b-4512-a975-a87265244de9",
   "metadata": {},
   "outputs": [],
   "source": [
    "df.secchi[df.secchi.str.contains('>')]"
   ]
  },
  {
   "cell_type": "code",
   "execution_count": null,
   "id": "e575283d-f8e4-49ad-9fe9-8b9769d38a87",
   "metadata": {},
   "outputs": [],
   "source": [
    "import numpy as np\n",
    "df['censored'] = np.where(df['secchi'].astype('str').str.contains(\">\"), 1, 0)\n",
    "df['secchi_depth'] = df['secchi'].astype(str).str.replace(r\"\\>\", \"\", regex=True).astype(\"float\")\n",
    "df['intercept'] = 1"
   ]
  },
  {
   "cell_type": "code",
   "execution_count": null,
   "id": "32818f9f-10dd-44f8-8c79-eea1ff358197",
   "metadata": {},
   "outputs": [],
   "source": [
    "cens = df['censored'].values\n",
    "endog = df['secchi_depth']\n",
    "exog = df[['intercept','alkalinity', 'chloride', 'carbon_organic', 'nitrogen', 'sulphate']]"
   ]
  },
  {
   "cell_type": "code",
   "execution_count": null,
   "id": "7d6f8a06-281b-41f3-b51d-b423a2915a27",
   "metadata": {},
   "outputs": [],
   "source": [
    "cens"
   ]
  },
  {
   "cell_type": "code",
   "execution_count": null,
   "id": "8f66a3aa-d69a-46a0-84d1-af71f144c0ec",
   "metadata": {},
   "outputs": [],
   "source": [
    "endog"
   ]
  },
  {
   "cell_type": "code",
   "execution_count": null,
   "id": "097b97c6-4e93-4c97-9b0f-c6a28edf5f04",
   "metadata": {},
   "outputs": [],
   "source": [
    "exog"
   ]
  },
  {
   "cell_type": "code",
   "execution_count": null,
   "id": "47d2ce3d-c62b-40cf-b152-c19bf0d5b7ff",
   "metadata": {},
   "outputs": [],
   "source": [
    "from py4etrics import tobit\n",
    "import statsmodels.api as sm\n",
    "tobit_res = tobit.Tobit(endog, exog, cens).fit()\n",
    "tobit_res.summary()"
   ]
  },
  {
   "cell_type": "code",
   "execution_count": null,
   "id": "b37ed4a9-5654-439b-9cb1-f77a6fc3b472",
   "metadata": {},
   "outputs": [],
   "source": [
    "import pandas as pd\n",
    "\n",
    "ranch=pd.read_excel(\"ranchChain.xlsx\",'data')"
   ]
  },
  {
   "cell_type": "code",
   "execution_count": null,
   "id": "a972eae0-5400-4a3d-8d04-a3a711d6995e",
   "metadata": {},
   "outputs": [],
   "source": [
    "ranch"
   ]
  },
  {
   "cell_type": "code",
   "execution_count": null,
   "id": "b3d4e1dc-394b-4b47-bd57-65e588048a43",
   "metadata": {},
   "outputs": [],
   "source": [
    "## installation\n",
    "# !pip install Pyfrontier"
   ]
  },
  {
   "cell_type": "code",
   "execution_count": null,
   "id": "8765e06a-c394-4452-9578-0b57bb5e4878",
   "metadata": {},
   "outputs": [],
   "source": [
    "from Pyfrontier.frontier_model import EnvelopDEA\n",
    "\n",
    "dea_ranch_vrs_in = EnvelopDEA(\"VRS\", \"in\")\n",
    "dea_ranch_vrs_in_fit=dea_ranch_vrs_in .fit(\n",
    "    inputs=ranch[['HoursOps',\t'FTE',\t'Supplies']].to_numpy(),\n",
    "    outputs=ranch[['WeeklyProfit','MarketShare','GrowthRate']].to_numpy()\n",
    ")"
   ]
  },
  {
   "cell_type": "code",
   "execution_count": null,
   "id": "2f90831f-c280-437a-9875-ee25004e2be5",
   "metadata": {},
   "outputs": [],
   "source": [
    "dea_ranch_vrs_in.result"
   ]
  },
  {
   "cell_type": "code",
   "execution_count": null,
   "id": "1f01c36e-6757-4906-8060-9bc5a7ac9853",
   "metadata": {},
   "outputs": [],
   "source": [
    "ranch['vrs_in']=[r.score for r in dea_ranch_vrs_in.result]\n",
    "ranch[['HoursOps_vrs_in_sl','FTE_vrs_in_sl','Supplies_vrs_in_sl']]=[[round(v,2) for v in r.x_slack] for r in dea_ranch_vrs_in.result]\n",
    "ranch[['WeeklyProfit_vrs_in_sl','MarketShare_vrs_in_sl','GrowthRate_vrs_in_sl']]=[[round(v,2) for v in r.y_slack] for r in dea_ranch_vrs_in.result]\n",
    "ranch['WeeklyProfit']=[r.is_efficient for r in dea_ranch_vrs_in.result]\n",
    "ranch.set_index('branch').loc[:,'vrs_in':]"
   ]
  },
  {
   "cell_type": "code",
   "execution_count": null,
   "id": "129ba53b-5c77-4839-8d87-e59578af78c6",
   "metadata": {},
   "outputs": [],
   "source": [
    "import statsmodels.api as sm"
   ]
  },
  {
   "cell_type": "code",
   "execution_count": null,
   "id": "03c77449-4b4d-4210-baac-59df36e7c890",
   "metadata": {},
   "outputs": [],
   "source": [
    "!pip install statsmodels"
   ]
  },
  {
   "cell_type": "code",
   "execution_count": null,
   "id": "88cdc61e-b4c3-4385-84d4-2125fc9e5d48",
   "metadata": {},
   "outputs": [],
   "source": []
  }
 ],
 "metadata": {
  "kernelspec": {
   "display_name": "Python 3 (ipykernel)",
   "language": "python",
   "name": "python3"
  },
  "language_info": {
   "codemirror_mode": {
    "name": "ipython",
    "version": 3
   },
   "file_extension": ".py",
   "mimetype": "text/x-python",
   "name": "python",
   "nbconvert_exporter": "python",
   "pygments_lexer": "ipython3",
   "version": "3.11.8"
  }
 },
 "nbformat": 4,
 "nbformat_minor": 5
}
