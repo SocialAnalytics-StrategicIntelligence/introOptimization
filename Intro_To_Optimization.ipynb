{
 "cells": [
  {
   "cell_type": "markdown",
   "id": "e94c1246",
   "metadata": {},
   "source": [
    "<img src=\"https://i.imgur.com/6U6q5jQ.png\"/>\n",
    "\n",
    "_____\n",
    "<a id='home'></a>\n",
    "\n",
    "\n",
    "\n",
    "\n",
    "# Introduction to Optimization\n"
   ]
  },
  {
   "cell_type": "code",
   "execution_count": null,
   "id": "4e38af10",
   "metadata": {
    "scrolled": true
   },
   "outputs": [],
   "source": [
    "%%html\n",
    "<iframe src=\"https://docs.google.com/presentation/d/e/2PACX-1vQHq0p2eTmxRWJjDmo1mUmdarYgIrEew4ieiVbIGQy-D_CyBw5rbbRUlRxwLKKaVQpRV9Hs8MGnz0X2/embed?start=false&loop=false&delayms=3000\" frameborder=\"1\" width=\"960\" height=\"569\" allowfullscreen=\"true\" mozallowfullscreen=\"true\" webkitallowfullscreen=\"true\"></iframe>"
   ]
  },
  {
   "cell_type": "markdown",
   "id": "869a5ade-2e6f-4ccd-8fd6-b4f276cff22f",
   "metadata": {},
   "source": [
    "# Part 1: Solving the Problem"
   ]
  },
  {
   "cell_type": "markdown",
   "id": "1f02e23b",
   "metadata": {},
   "source": [
    "Please, go to your _environment_ in Anacoda Navigator to install **glpk** and **pulp**  before runing the codes below.\n",
    "Then, call the library:"
   ]
  },
  {
   "cell_type": "code",
   "execution_count": null,
   "id": "a105dc9b-d105-49d3-8093-96d03eca9530",
   "metadata": {},
   "outputs": [],
   "source": [
    "import pulp as pp"
   ]
  },
  {
   "cell_type": "markdown",
   "id": "dd461c8a-8a20-4a93-aa9e-2b46c1deaf52",
   "metadata": {},
   "source": [
    "1. **Initialize the MODEL**: just write the name and declare if it is maximization or minimization problem type."
   ]
  },
  {
   "cell_type": "code",
   "execution_count": null,
   "id": "4436e0c7",
   "metadata": {},
   "outputs": [],
   "source": [
    "model = pp.LpProblem(name='refinery-problem', # just the name\n",
    "                     sense=pp.LpMaximize) # type of problem"
   ]
  },
  {
   "cell_type": "markdown",
   "id": "c001fd3a-190b-45d8-9fa3-c3e21578fa03",
   "metadata": {},
   "source": [
    "2. **Declare the VARIABLES**: The refinery model consists of these _variables_:"
   ]
  },
  {
   "cell_type": "code",
   "execution_count": null,
   "id": "8533e838-9e02-4ca8-85ef-de557cb1dd7c",
   "metadata": {},
   "outputs": [],
   "source": [
    "# how much gas?\n",
    "Gas = pp.LpVariable(name=\"Gas\",  # just the name\n",
    "                    lowBound=0,  # ensure non-negativity\n",
    "                    cat='Continuous') # here: you accept decimal values\n",
    "\n",
    "# how much oil?\n",
    "Oil = pp.LpVariable(name=\"Oil\",\n",
    "                 lowBound=0,\n",
    "                 cat='Continuous')"
   ]
  },
  {
   "cell_type": "markdown",
   "id": "611438aa-54e1-4cdd-aa77-44702feb498a",
   "metadata": {},
   "source": [
    "3. **Create function to OPTIMIZE**: The function is just the linear combination of the variables and their _given coefficients__: "
   ]
  },
  {
   "cell_type": "code",
   "execution_count": null,
   "id": "e676c256-353d-4fbd-a206-6914f29ff8ba",
   "metadata": {},
   "outputs": [],
   "source": [
    "GasCoeff=1.9\n",
    "OilCoeff=1.5\n",
    "obj_func = GasCoeff*Gas + OilCoeff*Oil"
   ]
  },
  {
   "cell_type": "markdown",
   "id": "65a5c48f-d28c-489a-bcd4-f97be76b57c7",
   "metadata": {},
   "source": [
    "4. **Represent the constraints**: These are the rules the model (set of variables) must obey:"
   ]
  },
  {
   "cell_type": "code",
   "execution_count": null,
   "id": "c24146f7-5db5-4606-90fd-9bc010685754",
   "metadata": {},
   "outputs": [],
   "source": [
    "# SUBJECT TO:\n",
    "C1= pp.LpConstraint(name='Gas Constraint',   # just the name\n",
    "                    e= 1*Gas - 2*Oil, rhs=0, # linear combination of constraint and rhs \n",
    "                    sense=pp.LpConstraintGE) # 'rule' >= 0 (LpConstraintGE)\n",
    "C2= pp.LpConstraint(name='Oil Constraint',\n",
    "                    e= 1*Oil, rhs=3000000,\n",
    "                    sense=pp.LpConstraintGE) # 'rule' >= 3000000 (LpConstraintGE)\n",
    "C3= pp.LpConstraint(name='Demand Constraint',\n",
    "                    e= 1*Gas, rhs=6400000,\n",
    "                    sense=pp.LpConstraintLE, )# 'rule' <= 6400000 (LpConstraintLE)"
   ]
  },
  {
   "cell_type": "markdown",
   "id": "10465ba5-03d5-41d0-9e65-b4c13d8a8728",
   "metadata": {},
   "source": [
    "5. **Build MODEL**: Here you add (i) the objective function, and (ii) all the constraints:"
   ]
  },
  {
   "cell_type": "code",
   "execution_count": null,
   "id": "44dd2783-49c1-44fd-952b-47743c9d4686",
   "metadata": {},
   "outputs": [],
   "source": [
    "model += obj_func\n",
    "model += C1\n",
    "model += C2\n",
    "model += C3\n"
   ]
  },
  {
   "cell_type": "markdown",
   "id": "2a332886-694b-40d8-98d3-e27066b28e96",
   "metadata": {},
   "source": [
    "6. **Solve the MODEL**: Notice we are not using the _default solver_, we are explicitly usig **COIN_CMD**:"
   ]
  },
  {
   "cell_type": "code",
   "execution_count": null,
   "id": "636442d1-a48c-4a3a-a84d-9f2312f3d473",
   "metadata": {},
   "outputs": [],
   "source": [
    "solver = pp.COIN_CMD(msg=False)\n",
    "result=model.solve(solver)"
   ]
  },
  {
   "cell_type": "markdown",
   "id": "54053ca1-f45e-4ae8-927e-a6b6cfc9a9e4",
   "metadata": {},
   "source": [
    "# Part 2: Seeing optimal solution"
   ]
  },
  {
   "cell_type": "markdown",
   "id": "7db07777-25b5-46c9-9d51-f1d0e3ceb709",
   "metadata": {},
   "source": [
    "You can create a summary like this:"
   ]
  },
  {
   "cell_type": "code",
   "execution_count": null,
   "id": "3a0152d1-cdd5-4426-9ba6-90556a685048",
   "metadata": {},
   "outputs": [],
   "source": [
    "import pandas as pd\n",
    "\n",
    "Results={\"Model Status\":pp.LpStatus[model.status]}\n",
    "Results.update({\"Optimal Solution\":pp.value(model.objective)})\n",
    "Results.update({v.name: v.varValue for v in model.variables()})\n",
    "pd.DataFrame.from_dict(Results,orient='index').T.set_index('Model Status').style.format('{:,}')"
   ]
  },
  {
   "cell_type": "markdown",
   "id": "9c025230-ed6e-40b1-ae5c-03bed5c5c0b7",
   "metadata": {},
   "source": [
    "<div class=\"alert-success\">\n",
    "\n",
    "<strong>Exercise: The diet problem</strong> "
   ]
  },
  {
   "cell_type": "code",
   "execution_count": 6,
   "id": "a7e1cb7a",
   "metadata": {},
   "outputs": [
    {
     "data": {
      "text/html": [
       "<iframe src=\"https://docs.google.com/presentation/d/e/2PACX-1vTSq9X74urGAB_5n_MIJ9ZGIboKSvBdokVTBXVLh_qqZnmLRTJioOF431Rzys3Qi9UaFwWXjeq6Wmd5/embed?start=false&loop=false&delayms=3000\" frameborder=\"0\" width=\"960\" height=\"569\" allowfullscreen=\"true\" mozallowfullscreen=\"true\" webkitallowfullscreen=\"true\"></iframe>\n"
      ],
      "text/plain": [
       "<IPython.core.display.HTML object>"
      ]
     },
     "metadata": {},
     "output_type": "display_data"
    }
   ],
   "source": [
    "%%html\n",
    "<iframe src=\"https://docs.google.com/presentation/d/e/2PACX-1vTSq9X74urGAB_5n_MIJ9ZGIboKSvBdokVTBXVLh_qqZnmLRTJioOF431Rzys3Qi9UaFwWXjeq6Wmd5/embed?start=false&loop=false&delayms=3000\" frameborder=\"0\" width=\"960\" height=\"569\" allowfullscreen=\"true\" mozallowfullscreen=\"true\" webkitallowfullscreen=\"true\"></iframe>"
   ]
  },
  {
   "cell_type": "code",
   "execution_count": null,
   "id": "fc350ccb-40b9-4dd0-8482-d7842a7321d6",
   "metadata": {},
   "outputs": [],
   "source": []
  }
 ],
 "metadata": {
  "kernelspec": {
   "display_name": "Python 3 (ipykernel)",
   "language": "python",
   "name": "python3"
  },
  "language_info": {
   "codemirror_mode": {
    "name": "ipython",
    "version": 3
   },
   "file_extension": ".py",
   "mimetype": "text/x-python",
   "name": "python",
   "nbconvert_exporter": "python",
   "pygments_lexer": "ipython3",
   "version": "3.11.5"
  }
 },
 "nbformat": 4,
 "nbformat_minor": 5
}
