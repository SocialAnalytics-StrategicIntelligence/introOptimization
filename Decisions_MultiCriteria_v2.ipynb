{
  "cells": [
    {
      "cell_type": "code",
      "execution_count": null,
      "id": "4bf5038e-daec-4f81-a2dd-afe31322f7e3",
      "metadata": {
        "id": "4bf5038e-daec-4f81-a2dd-afe31322f7e3"
      },
      "outputs": [],
      "source": [
        "%%html\n",
        "<iframe src=\"https://docs.google.com/presentation/d/e/2PACX-1vR7GL_wF1eKRO0JgEUyIx5cxXUhTQ8ZM4F3AE1MLr7GYG33dwEobrLo6O2MaV2d7Cv47TaTgHghkhrV/embed?start=false&loop=false&delayms=3000\" frameborder=\"0\" width=\"960\" height=\"569\" allowfullscreen=\"true\" mozallowfullscreen=\"true\" webkitallowfullscreen=\"true\"></iframe>"
      ]
    },
    {
      "cell_type": "markdown",
      "id": "7a2cc6c1-0814-4919-add2-25b566d18cdb",
      "metadata": {
        "id": "7a2cc6c1-0814-4919-add2-25b566d18cdb"
      },
      "source": [
        "I have previously prepared the pairwise comparisons:"
      ]
    },
    {
      "cell_type": "code",
      "source": [
        "%%html\n",
        "\n",
        "<iframe src=\"https://docs.google.com/spreadsheets/d/e/2PACX-1vSeUfh-DtfAAvEecirNS7Qs2qN4npmNfRiw9JvKmRpq88snVc8HJBlru2cyPy8lsQflSxlnx6U-IePw/pubhtml?widget=true&amp;headers=false\" width=\"600\" height=\"300\" ></iframe>"
      ],
      "metadata": {
        "id": "dae0dyqF8yWq"
      },
      "id": "dae0dyqF8yWq",
      "execution_count": null,
      "outputs": []
    },
    {
      "cell_type": "code",
      "source": [
        "# the link to the data\n",
        "\n",
        "linkGoogle='https://docs.google.com/spreadsheets/d/e/2PACX-1vSeUfh-DtfAAvEecirNS7Qs2qN4npmNfRiw9JvKmRpq88snVc8HJBlru2cyPy8lsQflSxlnx6U-IePw/pub?output=xlsx'\n",
        "\n",
        "#names in sheets (notice all lower case)\n",
        "\n",
        "sheets=['experience','charisma','education','age','criteria']\n",
        "\n",
        "# all matrices in pairwise\n",
        "\n",
        "import pandas as pd\n",
        "pairwise={sheet:pd.read_excel(linkGoogle,sheet_name=sheet,index_col=0) for sheet in sheets}\n",
        "\n",
        "import networkx as nx\n",
        "\n",
        "\n",
        "# Formatting for AHP:\n",
        "comparissons={}\n",
        "\n",
        "for table in sheets:\n",
        "  Graph=nx.from_pandas_adjacency(pairwise[table],create_using=nx.MultiDiGraph())\n",
        "  Tuples={table:{(e[0],e[1]):e[2]['weight'] for e in Graph.edges(data=True) if e[0]!= e[1]}}\n",
        "  comparissons.update(Tuples)\n"
      ],
      "metadata": {
        "id": "q_6XL_Yn5l3j"
      },
      "id": "q_6XL_Yn5l3j",
      "execution_count": null,
      "outputs": []
    },
    {
      "cell_type": "markdown",
      "source": [
        "Install AHP:"
      ],
      "metadata": {
        "id": "kf6V84qOPaKG"
      },
      "id": "kf6V84qOPaKG"
    },
    {
      "cell_type": "code",
      "source": [
        "#!pip install ahpy"
      ],
      "metadata": {
        "id": "SG76m9M1uCN4",
        "colab": {
          "base_uri": "https://localhost:8080/"
        },
        "outputId": "34da9b58-4382-4aaa-b494-be7ed2ae1de1"
      },
      "id": "SG76m9M1uCN4",
      "execution_count": null,
      "outputs": [
        {
          "output_type": "stream",
          "name": "stdout",
          "text": [
            "Collecting ahpy\n",
            "  Downloading ahpy-2.0-py3-none-any.whl (21 kB)\n",
            "Requirement already satisfied: numpy in /usr/local/lib/python3.10/dist-packages (from ahpy) (1.25.2)\n",
            "Requirement already satisfied: scipy in /usr/local/lib/python3.10/dist-packages (from ahpy) (1.11.4)\n",
            "Installing collected packages: ahpy\n",
            "Successfully installed ahpy-2.0\n"
          ]
        }
      ]
    },
    {
      "cell_type": "markdown",
      "source": [
        "Run the AHP program:"
      ],
      "metadata": {
        "id": "DeI3vN777zi3"
      },
      "id": "DeI3vN777zi3"
    },
    {
      "cell_type": "code",
      "source": [
        "import ahpy\n",
        "\n",
        "ahpModel={table:ahpy.Compare(table, comparissons[table], precision=3, random_index='saaty') for table in sheets}\n",
        "allButCriteria = [ahpModel[table] for table in sheets if table!='criteria']\n",
        "ahpModel['criteria'].add_children(allButCriteria)"
      ],
      "metadata": {
        "id": "pcX1T3qP3RYf"
      },
      "id": "pcX1T3qP3RYf",
      "execution_count": null,
      "outputs": []
    },
    {
      "cell_type": "markdown",
      "source": [
        "This is your solution:"
      ],
      "metadata": {
        "id": "UnrlVQGEPxuI"
      },
      "id": "UnrlVQGEPxuI"
    },
    {
      "cell_type": "code",
      "source": [
        "ahpModel['criteria'].target_weights"
      ],
      "metadata": {
        "id": "KpJcrLdmuqHT",
        "colab": {
          "base_uri": "https://localhost:8080/"
        },
        "outputId": "470067ba-00b8-41c2-a6e2-89ea960915c9"
      },
      "id": "KpJcrLdmuqHT",
      "execution_count": null,
      "outputs": [
        {
          "output_type": "execute_result",
          "data": {
            "text/plain": [
              "{'Dick': 0.493, 'Tom': 0.358, 'Harry': 0.15}"
            ]
          },
          "metadata": {},
          "execution_count": 4
        }
      ]
    },
    {
      "cell_type": "markdown",
      "source": [
        "Were we consistent? We should review comparissons if greater than 0.1!"
      ],
      "metadata": {
        "id": "xShZlJYDP8BJ"
      },
      "id": "xShZlJYDP8BJ"
    },
    {
      "cell_type": "code",
      "source": [
        "[(val.name,val.consistency_ratio) for val in [ahpModel[table] for table in sheets]]"
      ],
      "metadata": {
        "id": "WENnHFo582zc",
        "colab": {
          "base_uri": "https://localhost:8080/"
        },
        "outputId": "58702b7c-1963-4600-a56a-54df1a7e064e"
      },
      "id": "WENnHFo582zc",
      "execution_count": null,
      "outputs": [
        {
          "output_type": "execute_result",
          "data": {
            "text/plain": [
              "[('experience', 0.035),\n",
              " ('charisma', 0.069),\n",
              " ('education', 0.062),\n",
              " ('age', 0.028),\n",
              " ('criteria', 0.044)]"
            ]
          },
          "metadata": {},
          "execution_count": 5
        }
      ]
    },
    {
      "cell_type": "markdown",
      "id": "b50bc5f6-7d5d-4a90-bf30-ec0cd2e9aaac",
      "metadata": {
        "id": "b50bc5f6-7d5d-4a90-bf30-ec0cd2e9aaac"
      },
      "source": [
        "<div class=\"alert-success\">\n",
        "\n",
        "<strong>Exercise: </strong>\n"
      ]
    },
    {
      "cell_type": "code",
      "execution_count": null,
      "id": "c6a73683-487e-4304-b465-c3d1c509999f",
      "metadata": {
        "id": "c6a73683-487e-4304-b465-c3d1c509999f"
      },
      "outputs": [],
      "source": [
        "%%html\n",
        "<iframe src=\"https://docs.google.com/presentation/d/e/2PACX-1vTuVampl8KYq8154tyVahNAYKm9AyoSiUrkoBvnlgO3ECoDWrB0F8K8a-kg2r5zgnU3evV0iukeC3x2/embed?start=false&loop=false&delayms=3000\" frameborder=\"0\" width=\"960\" height=\"569\" allowfullscreen=\"true\" mozallowfullscreen=\"true\" webkitallowfullscreen=\"true\"></iframe>"
      ]
    },
    {
      "cell_type": "code",
      "source": [],
      "metadata": {
        "id": "CtDaNUoekKVc"
      },
      "id": "CtDaNUoekKVc",
      "execution_count": null,
      "outputs": []
    },
    {
      "cell_type": "markdown",
      "source": [
        "Exercise 2:\n",
        "\n",
        "Usted tiene planteado para este curso un problema a resolver. Su gran objetivo es generar valor publico, para ello quiere respetar cuatro criterios del curso (Racional, Estratégico, Institucional, Cultural). Elija una solucion por persona del grupo, y sometalas a la técnica AHP. ¿Cuál será la alternativa ganadora?"
      ],
      "metadata": {
        "id": "cPALHs3uBvkV"
      },
      "id": "cPALHs3uBvkV"
    }
  ],
  "metadata": {
    "kernelspec": {
      "display_name": "Python 3 (ipykernel)",
      "language": "python",
      "name": "python3"
    },
    "language_info": {
      "codemirror_mode": {
        "name": "ipython",
        "version": 3
      },
      "file_extension": ".py",
      "mimetype": "text/x-python",
      "name": "python",
      "nbconvert_exporter": "python",
      "pygments_lexer": "ipython3",
      "version": "3.11.5"
    },
    "colab": {
      "provenance": []
    }
  },
  "nbformat": 4,
  "nbformat_minor": 5
}